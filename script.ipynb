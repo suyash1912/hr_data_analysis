{
 "cells": [
  {
   "cell_type": "code",
   "execution_count": 1,
   "id": "351d3c0a",
   "metadata": {},
   "outputs": [],
   "source": [
    "import pandas as pd\n",
    "import numpy as np\n"
   ]
  },
  {
   "cell_type": "code",
   "execution_count": 6,
   "id": "98938353",
   "metadata": {},
   "outputs": [
    {
     "name": "stdout",
     "output_type": "stream",
     "text": [
      "Initial Shape: (30, 8)\n",
      "  EmployeeID   Age Department Attrition Salary Experience  Education  Gender\n",
      "0       E001  32.0      Sales        No  60000          5  Bachelors    Male\n",
      "1       E002  45.0         HR       Yes  75000         12    Masters  Female\n",
      "2       E003  28.0  Marketing        No  55000          3  Bachelors    Male\n",
      "3       E004  50.0         IT        No  90000         20        PhD  Female\n",
      "4       E005  35.0      Sales        No  62000          7  Bachelors  Female\n",
      "\n",
      "Missing values:\n",
      " EmployeeID    0\n",
      "Age           3\n",
      "Department    0\n",
      "Attrition     0\n",
      "Salary        2\n",
      "Experience    3\n",
      "Education     0\n",
      "Gender        0\n",
      "dtype: int64\n"
     ]
    }
   ],
   "source": [
    "# Step 1: Load the dataset\n",
    "url = 'https://github.com/suyash1912/hr_data_analysis/releases/download/data/hr_analysis_data.csv'\n",
    "df = pd.read_csv(url)\n",
    "\n",
    "print(\"Initial Shape:\", df.shape)\n",
    "print(df.head())\n",
    "\n",
    "# Step 2: Check for missing values\n",
    "print(\"\\nMissing values:\\n\", df.isnull().sum())\n"
   ]
  },
  {
   "cell_type": "code",
   "execution_count": 7,
   "id": "daa4bee4",
   "metadata": {},
   "outputs": [
    {
     "name": "stdout",
     "output_type": "stream",
     "text": [
      "\n",
      "Missing values:\n",
      " EmployeeID    0\n",
      "Age           3\n",
      "Department    0\n",
      "Attrition     0\n",
      "Salary        2\n",
      "Experience    3\n",
      "Education     0\n",
      "Gender        0\n",
      "dtype: int64\n"
     ]
    }
   ],
   "source": [
    "# Step 2: Check for missing values\n",
    "print(\"\\nMissing values:\\n\", df.isnull().sum())"
   ]
  },
  {
   "cell_type": "code",
   "execution_count": 11,
   "id": "0740f6b5",
   "metadata": {},
   "outputs": [],
   "source": [
    "# Step 3: Handle and clean 'Salary' column\n",
    "# Convert to lowercase strings for consistency\n",
    "df['Salary'] = df['Salary'].astype(str).str.lower().str.strip()\n",
    "# Replace known text values with numeric equivalents\n",
    "df['Salary'] = df['Salary'].replace({\n",
    "    'sixty thousand': '60000',\n",
    "    'fifty thousand': '50000',\n",
    "    'seventy thousand': '70000'\n",
    "    # Add more replacements if needed\n",
    "})\n",
    "# Convert salary to numeric (invalid parsing → NaN)\n",
    "df['Salary'] = pd.to_numeric(df['Salary'], errors='coerce')"
   ]
  },
  {
   "cell_type": "code",
   "execution_count": 12,
   "id": "fdb8a3b6",
   "metadata": {},
   "outputs": [],
   "source": [
    "# Step 4: Fill missing values\n",
    "# Numeric columns\n",
    "df['Age'] = pd.to_numeric(df['Age'], errors='coerce')\n",
    "df['Experience'] = pd.to_numeric(df['Experience'], errors='coerce')\n",
    "\n",
    "df['Age'] = df['Age'].fillna(df['Age'].median()).astype(int)\n",
    "df['Salary'] = df['Salary'].fillna(df['Salary'].median()).astype(int)\n",
    "df['Experience'] = df['Experience'].fillna(df['Experience'].median()).astype(int)\n",
    "\n",
    "# Categorical columns\n",
    "for col in ['Department', 'Attrition', 'Education', 'Gender']:\n",
    "    df[col] = df[col].astype(str).str.strip()\n",
    "    df[col] = df[col].replace('nan', pd.NA)\n",
    "    df[col] = df[col].fillna(df[col].mode()[0])"
   ]
  },
  {
   "cell_type": "code",
   "execution_count": 13,
   "id": "ec9219cd",
   "metadata": {},
   "outputs": [],
   "source": [
    "# Step 5: Standardize text data\n",
    "df['Department'] = df['Department'].str.title()\n",
    "df['Gender'] = df['Gender'].str.capitalize()\n",
    "df['Attrition'] = df['Attrition'].str.capitalize()\n",
    "\n",
    "# Fix common department typos\n",
    "df['Department'] = df['Department'].replace({\n",
    "    'Hr': 'HR',\n",
    "    'Human Resources': 'HR',\n",
    "    'Financee': 'Finance'\n",
    "})"
   ]
  },
  {
   "cell_type": "code",
   "execution_count": 14,
   "id": "c084aac8",
   "metadata": {},
   "outputs": [],
   "source": [
    "# Step 6: Fix data types\n",
    "df['EmployeeID'] = df['EmployeeID'].astype(str)\n"
   ]
  },
  {
   "cell_type": "code",
   "execution_count": 15,
   "id": "cb26ebfb",
   "metadata": {},
   "outputs": [],
   "source": [
    "# Step 7: Encode categorical columns\n",
    "label_cols = ['Department', 'Attrition', 'Education', 'Gender']\n",
    "encoders = {}\n",
    "\n",
    "for col in label_cols:\n",
    "    le = LabelEncoder()\n",
    "    df[col + '_Encoded'] = le.fit_transform(df[col])\n",
    "    encoders[col] = le  # Store encoder if needed for inverse later\n"
   ]
  },
  {
   "cell_type": "code",
   "execution_count": 16,
   "id": "8f498b5f",
   "metadata": {},
   "outputs": [
    {
     "name": "stdout",
     "output_type": "stream",
     "text": [
      "\n",
      "Final Cleaned Dataset Preview:\n",
      "   EmployeeID  Age Department Attrition  Salary  Experience  Education  Gender  \\\n",
      "0       E001   32      Sales        No   60000           5  Bachelors    Male   \n",
      "1       E002   45         HR       Yes   75000          12    Masters  Female   \n",
      "2       E003   28  Marketing        No   55000           3  Bachelors    Male   \n",
      "3       E004   50         It        No   90000          20        PhD  Female   \n",
      "4       E005   35      Sales        No   62000           7  Bachelors  Female   \n",
      "\n",
      "   Department_Encoded  Attrition_Encoded  Education_Encoded  Gender_Encoded  \n",
      "0                   4                  0                  0               1  \n",
      "1                   1                  1                  2               0  \n",
      "2                   3                  0                  0               1  \n",
      "3                   2                  0                  3               0  \n",
      "4                   4                  0                  0               0  \n",
      "\n",
      "Missing values remaining: 0\n"
     ]
    }
   ],
   "source": [
    "# Final check\n",
    "print(\"\\nFinal Cleaned Dataset Preview:\\n\", df.head())\n",
    "print(\"\\nMissing values remaining:\", df.isnull().sum().sum())"
   ]
  }
 ],
 "metadata": {
  "kernelspec": {
   "display_name": "base",
   "language": "python",
   "name": "python3"
  },
  "language_info": {
   "codemirror_mode": {
    "name": "ipython",
    "version": 3
   },
   "file_extension": ".py",
   "mimetype": "text/x-python",
   "name": "python",
   "nbconvert_exporter": "python",
   "pygments_lexer": "ipython3",
   "version": "3.12.9"
  }
 },
 "nbformat": 4,
 "nbformat_minor": 5
}
